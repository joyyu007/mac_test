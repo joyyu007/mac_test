{
 "cells": [
  {
   "cell_type": "code",
   "execution_count": null,
   "metadata": {},
   "outputs": [],
   "source": [
    "#sys 最简单，只能提供简单的参数解析功能\n",
    "\n",
    "#getopt，只能简单的处理命令行参数，较sys封装更好一点\n",
    "\n",
    "#argparse，更好的解析sys.argv，argparse模块还能自动生成帮助及用户输入错误参数时的提示信息\n",
    "\n",
    "#命令行参数分为'-'和'--''两种模式\n"
   ]
  },
  {
   "cell_type": "code",
   "execution_count": null,
   "metadata": {},
   "outputs": [],
   "source": [
    "#sys 最简单，只能提供简单的参数解析功能\n",
    "import sys\n",
    "\n",
    "def SysFunc():\n",
    "    \"\"\"\n",
    "    对于短格式：\n",
    "    '-'后面要紧跟一个选项字母，如果还有此选项的附加参数，可以用空格分开，也可以不分开\n",
    "    长度任意，可以用引号\n",
    "    如：-h -ls -l s\n",
    "    对于长格式：\n",
    "    '--'号后面要跟一个单词，如果还有些选项的附件参数，后面要紧跟'='，再加上参数\n",
    "    '='前后不能有空格\n",
    "    如：--input=data.txt\n",
    "    \"\"\"\n",
    "    print(type(sys.argv))\n",
    "    \n",
    "    if len(sys.argv) == 1:\n",
    "        print('Nothing need to be done!')\n",
    "    else:\n",
    "        para_list = sys.argv\n",
    "        print('Parameter is :',para_list)\n",
    "        if para_list[1].startswith('--'):\n",
    "            print ('Datafile name is :',para_list[1].split('=')[-1].stripe())\n",
    "            print('Longopts,do your actions here!!!')\n",
    "        elif para_list[1].startswith('-'):\n",
    "            print ('Datafile name is : ',para_list[2])\n",
    "            print('Shortopts,do your actions here!!!')\n",
    "            "
   ]
  },
  {
   "cell_type": "code",
   "execution_count": null,
   "metadata": {},
   "outputs": [],
   "source": [
    "import getopt\n",
    "import sys\n",
    "\n",
    "def GetOptFunc():\n",
    "    \"\"\"\n",
    "    基于getopt模块来实现参数解析功能\n",
    "    函数getopt(args,shortopts,longopts=[])\n",
    "    参数args一般是sys.argv[1:]\n",
    "    shortopts  短格式(-)\n",
    "    longopts   长格式（--）\n",
    "    注意点：\n",
    "    定义命令行参数时，要先定义带'-'选项的参数，在定义没有'-'的参数\n",
    "    \"\"\"\n",
    "   \n",
    "    \n",
    "    \n",
    "    t1,l1=getopt.getopt(sys.argv[1:],'-h-f:-v',['help','filename=','version'])\n",
    "    print(t1)\n",
    "    print(l1)\n",
    "    '''\n",
    "    opts,args = getopt.getopt(sys.argv[1:],'-h-f:-v',['help','filename=','version'])\n",
    "    \n",
    "    print(opts)\n",
    "    print(args)\n",
    "    '''"
   ]
  },
  {
   "cell_type": "code",
   "execution_count": null,
   "metadata": {},
   "outputs": [],
   "source": [
    "GetOptFunc()"
   ]
  },
  {
   "cell_type": "code",
   "execution_count": null,
   "metadata": {},
   "outputs": [],
   "source": [
    "import getopt\n",
    "import sys\n",
    "\n",
    "opts,args = getopt.getopt(sys.argv[1:],'-h-f:-v',['help','filename=','version'])\n",
    "print(opts)\n",
    "print('-'*50)\n",
    "for opt_name,opt_value in opts:\n",
    "    if opt_name in ('-h','--help'):\n",
    "        print(\"[*] Help info\")\n",
    "        sys.exit()\n",
    "    if opt_name in ('-v','--version'):\n",
    "        print(\"[*] Version is 0.01 \")\n",
    "        sys.exit()\n",
    "    if opt_name in ('-f','--filename'):#当外部输入'-f1'或者'--flilename=1'时，输出为：[('--filename', '3')] \\n [*] Filename is  3\n",
    "        fileName = opt_value\n",
    "        print(\"[*] Filename is \",fileName)\n",
    "        # do something\n",
    "        sys.exit()"
   ]
  },
  {
   "cell_type": "code",
   "execution_count": null,
   "metadata": {},
   "outputs": [],
   "source": [
    "import os,sys\n",
    "\n",
    "try: \n",
    "    sys.exit(0)\n",
    "except:\n",
    "    print(\"die1\")\n",
    "finally:\n",
    "    print(\"clean up1\")\n",
    "    \n",
    "try:\n",
    "    os.exit()\n",
    "except:\n",
    "    print(\"die2\")\n",
    "\n",
    "print('os.exit')"
   ]
  },
  {
   "cell_type": "code",
   "execution_count": 5,
   "metadata": {},
   "outputs": [
    {
     "name": "stdout",
     "output_type": "stream",
     "text": [
      "Namespace(file='C:\\\\Users\\\\ThinkPad\\\\AppData\\\\Roaming\\\\jupyter\\\\runtime\\\\kernel-80fa2a77-c90e-4999-96ac-3b0782f98356.json', name=' LI ', year='20')\n",
      "Hello LI  20 C:\\Users\\ThinkPad\\AppData\\Roaming\\jupyter\\runtime\\kernel-80fa2a77-c90e-4999-96ac-3b0782f98356.json\n"
     ]
    }
   ],
   "source": [
    "import argparse\n",
    "\n",
    "def main():\n",
    "    parser = argparse.ArgumentParser(description=\"Demo of argparse\")\n",
    "    parser.add_argument('-n','--name',default=' LI ')\n",
    "    parser.add_argument('-y','--year',default='20')\n",
    "    parser.add_argument('-f','--file',default='')\n",
    "    args = parser.parse_args()\n",
    "    print(args)\n",
    "    name=args.name\n",
    "    year=args.year\n",
    "    file=args.file\n",
    "    print('Hello{} {} {}'.format(name,year,file))\n",
    "    \n",
    "if __name__=='__main__':\n",
    "    main()\n"
   ]
  },
  {
   "cell_type": "code",
   "execution_count": null,
   "metadata": {},
   "outputs": [],
   "source": []
  }
 ],
 "metadata": {
  "kernelspec": {
   "display_name": "Python 3",
   "language": "python",
   "name": "python3"
  },
  "language_info": {
   "codemirror_mode": {
    "name": "ipython",
    "version": 3
   },
   "file_extension": ".py",
   "mimetype": "text/x-python",
   "name": "python",
   "nbconvert_exporter": "python",
   "pygments_lexer": "ipython3",
   "version": "3.7.6"
  }
 },
 "nbformat": 4,
 "nbformat_minor": 4
}
