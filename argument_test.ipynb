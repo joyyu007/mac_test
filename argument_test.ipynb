{
 "cells": [
  {
   "cell_type": "code",
   "execution_count": 1,
   "metadata": {},
   "outputs": [],
   "source": [
    "#sys 最简单，只能提供简单的参数解析功能\n",
    "\n",
    "#getopt，只能简单的处理命令行参数，较sys封装更好一点\n",
    "\n",
    "#argparse，更好的解析sys.argv，argparse模块还能自动生成帮助及用户输入错误参数时的提示信息\n",
    "\n",
    "#命令行参数分为'-'和'--''两种模式\n"
   ]
  },
  {
   "cell_type": "code",
   "execution_count": 9,
   "metadata": {},
   "outputs": [],
   "source": [
    "#sys 最简单，只能提供简单的参数解析功能\n",
    "import sys\n",
    "\n",
    "def SysFunc():\n",
    "    \"\"\"\n",
    "    对于短格式：\n",
    "    '-'后面要紧跟一个选项字母，如果还有此选项的附加参数，可以用空格分开，也可以不分开\n",
    "    长度任意，可以用引号\n",
    "    如：-h -ls -l s\n",
    "    对于长格式：\n",
    "    '--'号后面要跟一个单词，如果还有些选项的附件参数，后面要紧跟'='，再加上参数\n",
    "    '='前后不能有空格\n",
    "    如：--input=data.txt\n",
    "    \"\"\"\n",
    "    print(type(sys.argv))\n",
    "    \n",
    "    if len(sys.argv) == 1:\n",
    "        print('Nothing need to be done!')\n",
    "    else:\n",
    "        para_list = sys.argv\n",
    "        print('Parameter is :',para_list)\n",
    "        if para_list[1].startswith('--'):\n",
    "            print ('Datafile name is :',para_list[1].split('=')[-1].stripe())\n",
    "            print('Longopts,do your actions here!!!')\n",
    "        elif para_list[1].startswith('-'):\n",
    "            print ('Datafile name is : ',para_list[2])\n",
    "            print('Shortopts,do your actions here!!!')\n",
    "            "
   ]
  },
  {
   "cell_type": "code",
   "execution_count": 10,
   "metadata": {},
   "outputs": [
    {
     "name": "stdout",
     "output_type": "stream",
     "text": [
      "<class 'list'>\n",
      "Parameter is : ['/Users/bossrich/PycharmProjects/examples/exam01/untitled/venv/lib/python3.7/site-packages/ipykernel_launcher.py', '-f', '/Users/bossrich/Library/Jupyter/runtime/kernel-a521eaed-7032-4bd7-9b20-548e8498c117.json']\n",
      "Datafile name is :  /Users/bossrich/Library/Jupyter/runtime/kernel-a521eaed-7032-4bd7-9b20-548e8498c117.json\n",
      "Shortopts,do your actions here!!!\n"
     ]
    }
   ],
   "source": [
    "SysFunc()"
   ]
  },
  {
   "cell_type": "code",
   "execution_count": null,
   "metadata": {},
   "outputs": [],
   "source": []
  }
 ],
 "metadata": {
  "kernelspec": {
   "display_name": "Python 3",
   "language": "python",
   "name": "python3"
  },
  "language_info": {
   "codemirror_mode": {
    "name": "ipython",
    "version": 3
   },
   "file_extension": ".py",
   "mimetype": "text/x-python",
   "name": "python",
   "nbconvert_exporter": "python",
   "pygments_lexer": "ipython3",
   "version": "3.7.3"
  }
 },
 "nbformat": 4,
 "nbformat_minor": 4
}
